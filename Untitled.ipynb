{
 "cells": [
  {
   "cell_type": "code",
   "execution_count": 54,
   "metadata": {},
   "outputs": [],
   "source": [
    "import pandas as pd\n",
    "import numpy as np\n",
    "import matplotlib.pyplot as plt"
   ]
  },
  {
   "cell_type": "code",
   "execution_count": 55,
   "metadata": {},
   "outputs": [],
   "source": [
    "import tensorflow as tf"
   ]
  },
  {
   "cell_type": "code",
   "execution_count": 56,
   "metadata": {},
   "outputs": [],
   "source": [
    "from keras import Sequential"
   ]
  },
  {
   "cell_type": "code",
   "execution_count": 57,
   "metadata": {},
   "outputs": [],
   "source": [
    "from tensorflow.keras.layers import *\n",
    "from tensorflow.keras.models import *\n",
    "from tensorflow.keras.preprocessing import image"
   ]
  },
  {
   "cell_type": "code",
   "execution_count": 58,
   "metadata": {},
   "outputs": [],
   "source": [
    "train_path=r'C:\\Users\\dell\\sharjeel\\train'\n",
    "test_path=r'C:\\Users\\dell\\sharjeel\\val'"
   ]
  },
  {
   "cell_type": "code",
   "execution_count": 59,
   "metadata": {},
   "outputs": [],
   "source": [
    "train_datagenerator=image.ImageDataGenerator(\n",
    "    rotation_range=10,\n",
    "    shear_range=0.2,\n",
    "    zoom_range=0.2,\n",
    "    horizontal_flip=True,\n",
    "    fill_mode='nearest',\n",
    "    width_shift_range=0.1,\n",
    "    height_shift_range=0.1\n",
    ")\n",
    "val_datagenerator=image.ImageDataGenerator(\n",
    "    rotation_range=15,\n",
    "    shear_range=0.2,\n",
    "    zoom_range=0.2,\n",
    "    horizontal_flip=True,\n",
    "    fill_mode='nearest',\n",
    "    width_shift_range=0.1,\n",
    "    height_shift_range=0.1\n",
    "\n",
    ")\n"
   ]
  },
  {
   "cell_type": "code",
   "execution_count": 60,
   "metadata": {},
   "outputs": [
    {
     "name": "stdout",
     "output_type": "stream",
     "text": [
      "Found 5381 images belonging to 2 classes.\n",
      "Found 600 images belonging to 2 classes.\n"
     ]
    }
   ],
   "source": [
    "train_generator = train_datagenerator.flow_from_directory(\n",
    "    train_path,\n",
    "    target_size = (224,224),\n",
    "    batch_size = 4,\n",
    "    class_mode = 'binary')\n",
    "validation_generator = val_datagenerator.flow_from_directory(\n",
    "    test_path,\n",
    "    target_size = (224,224),\n",
    "    batch_size = 4,\n",
    "    shuffle=True,\n",
    "    class_mode = 'binary')"
   ]
  },
  {
   "cell_type": "code",
   "execution_count": 61,
   "metadata": {},
   "outputs": [
    {
     "name": "stdout",
     "output_type": "stream",
     "text": [
      "Model: \"sequential_6\"\n",
      "_________________________________________________________________\n",
      " Layer (type)                Output Shape              Param #   \n",
      "=================================================================\n",
      " efficientnetb3 (Functional)  (None, 7, 7, 1536)       10783535  \n",
      "                                                                 \n",
      " gaussian_noise_6 (GaussianN  (None, 7, 7, 1536)       0         \n",
      " oise)                                                           \n",
      "                                                                 \n",
      " global_average_pooling2d_6   (None, 1536)             0         \n",
      " (GlobalAveragePooling2D)                                        \n",
      "                                                                 \n",
      " batch_normalization_6 (Batc  (None, 1536)             6144      \n",
      " hNormalization)                                                 \n",
      "                                                                 \n",
      " dropout_6 (Dropout)         (None, 1536)              0         \n",
      "                                                                 \n",
      " dense_6 (Dense)             (None, 1)                 1537      \n",
      "                                                                 \n",
      "=================================================================\n",
      "Total params: 10,791,216\n",
      "Trainable params: 4,609\n",
      "Non-trainable params: 10,786,607\n",
      "_________________________________________________________________\n"
     ]
    }
   ],
   "source": [
    "base_model=tf.keras.applications.EfficientNetB3(weights='imagenet',input_shape=(224,224,3),include_top=False)\n",
    "for layer in base_model.layers:\n",
    "    layer.trainable=False\n",
    "model=Sequential()\n",
    "model.add(base_model)\n",
    "model.add(GaussianNoise(0.25))\n",
    "model.add(GlobalAveragePooling2D())\n",
    "model.add(BatchNormalization())\n",
    "model.add(Dropout(0.25))\n",
    "model.add(Dense(1, activation='sigmoid'))\n",
    "model.summary()\n",
    "    "
   ]
  },
  {
   "cell_type": "code",
   "execution_count": 65,
   "metadata": {},
   "outputs": [],
   "source": [
    "model.compile(loss='binary_crossentropy',\n",
    "              optimizer='adam',\n",
    "              metrics=['accuracy','Precision','Recall','AUC'])"
   ]
  },
  {
   "cell_type": "code",
   "execution_count": 67,
   "metadata": {},
   "outputs": [
    {
     "name": "stdout",
     "output_type": "stream",
     "text": [
      "1346/1346 [==============================] - 865s 642ms/step - loss: 0.6197 - accuracy: 0.6551 - precision: 0.6952 - recall: 0.8832 - auc: 0.5978\n"
     ]
    },
    {
     "data": {
      "text/plain": [
       "[0.6196813583374023,\n",
       " 0.6550827026367188,\n",
       " 0.6951688528060913,\n",
       " 0.8832156658172607,\n",
       " 0.5978384017944336]"
      ]
     },
     "execution_count": 67,
     "metadata": {},
     "output_type": "execute_result"
    }
   ],
   "source": [
    "model.evaluate(train_generator)"
   ]
  },
  {
   "cell_type": "code",
   "execution_count": 70,
   "metadata": {},
   "outputs": [
    {
     "name": "stdout",
     "output_type": "stream",
     "text": [
      "Epoch 1/5\n",
      "1346/1346 [==============================] - 956s 710ms/step - loss: 0.5331 - accuracy: 0.7508 - precision: 0.7969 - recall: 0.8533 - auc: 0.7836 - val_loss: 0.8244 - val_accuracy: 0.6200 - val_precision: 0.5200 - val_recall: 0.6500 - val_auc: 0.7161 - lr: 0.0010\n",
      "Epoch 2/5\n",
      "1346/1346 [==============================] - 946s 703ms/step - loss: 0.4763 - accuracy: 0.7896 - precision: 0.8279 - recall: 0.8743 - auc: 0.8346 - val_loss: 0.7750 - val_accuracy: 0.6567 - val_precision: 0.5570 - val_recall: 0.6917 - val_auc: 0.7380 - lr: 0.0010\n",
      "Epoch 3/5\n",
      "1346/1346 [==============================] - 964s 716ms/step - loss: 0.4662 - accuracy: 0.7984 - precision: 0.8325 - recall: 0.8829 - auc: 0.8418 - val_loss: 0.8717 - val_accuracy: 0.6350 - val_precision: 0.5349 - val_recall: 0.6708 - val_auc: 0.7096 - lr: 0.0010\n",
      "Epoch 4/5\n",
      "1346/1346 [==============================] - 981s 729ms/step - loss: 0.4743 - accuracy: 0.7935 - precision: 0.8331 - recall: 0.8732 - auc: 0.8388 - val_loss: 0.8783 - val_accuracy: 0.6550 - val_precision: 0.5460 - val_recall: 0.8167 - val_auc: 0.7576 - lr: 0.0010\n",
      "Epoch 5/5\n",
      "1346/1346 [==============================] - 951s 706ms/step - loss: 0.4582 - accuracy: 0.8056 - precision: 0.8423 - recall: 0.8808 - auc: 0.8488 - val_loss: 0.9923 - val_accuracy: 0.6433 - val_precision: 0.5357 - val_recall: 0.8125 - val_auc: 0.7256 - lr: 0.0010\n"
     ]
    }
   ],
   "source": [
    "from tensorflow.keras.callbacks import ModelCheckpoint, EarlyStopping, ReduceLROnPlateau\n",
    "best_weights_path = 'best_weights.h5'\n",
    "lrp = tf.keras.callbacks.ReduceLROnPlateau(monitor='val_loss', factor=0.1, patience=10, verbose=1)\n",
    "history = model.fit(\n",
    "    train_generator,\n",
    "    epochs=5,\n",
    "    validation_data=validation_generator,\n",
    "    callbacks=[lrp]\n",
    ")\n",
    "best_val_acc = max(history.history['val_accuracy'])\n",
    "model.save_weights(best_weights_path)"
   ]
  },
  {
   "cell_type": "code",
   "execution_count": 71,
   "metadata": {},
   "outputs": [
    {
     "name": "stdout",
     "output_type": "stream",
     "text": [
      "150/150 [==============================] - 90s 602ms/step - loss: 0.9948 - accuracy: 0.6300 - precision: 0.5241 - recall: 0.8167 - auc: 0.7175\n"
     ]
    },
    {
     "data": {
      "text/plain": [
       "[0.9948193430900574,\n",
       " 0.6299999952316284,\n",
       " 0.5240641832351685,\n",
       " 0.8166666626930237,\n",
       " 0.7174884080886841]"
      ]
     },
     "execution_count": 71,
     "metadata": {},
     "output_type": "execute_result"
    }
   ],
   "source": [
    "model.evaluate(validation_generator)"
   ]
  },
  {
   "cell_type": "code",
   "execution_count": 72,
   "metadata": {},
   "outputs": [
    {
     "name": "stdout",
     "output_type": "stream",
     "text": [
      "1/1 [==============================] - 4s 4s/step\n",
      "[[0.00837855]]\n",
      "THE UPLOADED X-RAY IMAGE IS: Fracture\n"
     ]
    },
    {
     "data": {
      "image/png": "[encoded data removed]",
      "text/plain": [
       "<Figure size 432x288 with 1 Axes>"
      ]
     },
     "metadata": {
      "needs_background": "light"
     },
     "output_type": "display_data"
    }
   ],
   "source": [
    "from tensorflow.keras.utils import load_img, img_to_array\n",
    "img = load_img(r'C:\\Users\\dell\\sharjeel\\val\\fractured\\2-rotated2-rotated2-rotated3.jpg',target_size=(224,224))\n",
    "imag = img_to_array(img)\n",
    "imaga = np.expand_dims(imag,axis=0) \n",
    "ypred = model.predict(imaga)\n",
    "print(ypred)\n",
    "a=ypred[0]\n",
    "if a<0.4:\n",
    "      op=\"Fracture\"   \n",
    "else:\n",
    "      op=\"Normal\"\n",
    "plt.imshow(img)\n",
    "print(\"THE UPLOADED X-RAY IMAGE IS: \"+str(op))"
   ]
  },
  {
   "cell_type": "code",
   "execution_count": 1,
   "metadata": {},
   "outputs": [
    {
     "ename": "NameError",
     "evalue": "name 'model' is not defined",
     "output_type": "error",
     "traceback": [
      "\u001b[1;31m---------------------------------------------------------------------------\u001b[0m",
      "\u001b[1;31mNameError\u001b[0m                                 Traceback (most recent call last)",
      "\u001b[1;32m<ipython-input-1-5990456163ad>\u001b[0m in \u001b[0;36m<module>\u001b[1;34m\u001b[0m\n\u001b[0;32m      3\u001b[0m \u001b[1;33m\u001b[0m\u001b[0m\n\u001b[0;32m      4\u001b[0m \u001b[1;31m# Make predictions on the test set\u001b[0m\u001b[1;33m\u001b[0m\u001b[1;33m\u001b[0m\u001b[1;33m\u001b[0m\u001b[0m\n\u001b[1;32m----> 5\u001b[1;33m \u001b[0my_pred\u001b[0m \u001b[1;33m=\u001b[0m \u001b[0mmodel\u001b[0m\u001b[1;33m.\u001b[0m\u001b[0mpredict\u001b[0m\u001b[1;33m(\u001b[0m\u001b[0mtest_generator\u001b[0m\u001b[1;33m)\u001b[0m\u001b[1;33m\u001b[0m\u001b[1;33m\u001b[0m\u001b[0m\n\u001b[0m\u001b[0;32m      6\u001b[0m \u001b[0my_pred\u001b[0m \u001b[1;33m=\u001b[0m \u001b[0mnp\u001b[0m\u001b[1;33m.\u001b[0m\u001b[0margmax\u001b[0m\u001b[1;33m(\u001b[0m\u001b[0my_pred\u001b[0m\u001b[1;33m,\u001b[0m \u001b[0maxis\u001b[0m\u001b[1;33m=\u001b[0m\u001b[1;36m1\u001b[0m\u001b[1;33m)\u001b[0m\u001b[1;33m\u001b[0m\u001b[1;33m\u001b[0m\u001b[0m\n\u001b[0;32m      7\u001b[0m \u001b[1;33m\u001b[0m\u001b[0m\n",
      "\u001b[1;31mNameError\u001b[0m: name 'model' is not defined"
     ]
    }
   ],
   "source": [
    "from sklearn.metrics import confusion_matrix\n",
    "import numpy as np\n",
    "\n",
    "# Make predictions on the test set\n",
    "y_pred = model.predict(test_generator)\n",
    "y_pred = np.argmax(y_pred, axis=1)\n",
    "\n",
    "# Get the true labels from the generator\n",
    "y_true = test_generator.classes\n",
    "\n",
    "# Calculate the confusion matrix\n",
    "cm = confusion_matrix(y_true, y_pred)\n",
    "\n",
    "print(\"Confusion Matrix:\")\n",
    "print(cm)\n"
   ]
  },
  {
   "cell_type": "code",
   "execution_count": null,
   "metadata": {},
   "outputs": [],
   "source": []
  }
 ],
 "metadata": {
  "kernelspec": {
   "display_name": "Python 3",
   "language": "python",
   "name": "python3"
  },
  "language_info": {
   "codemirror_mode": {
    "name": "ipython",
    "version": 3
   },
   "file_extension": ".py",
   "mimetype": "text/x-python",
   "name": "python",
   "nbconvert_exporter": "python",
   "pygments_lexer": "ipython3",
   "version": "3.8.5"
  }
 },
 "nbformat": 4,
 "nbformat_minor": 4
}
